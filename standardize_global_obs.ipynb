{
 "cells": [
  {
   "cell_type": "code",
   "execution_count": 3,
   "id": "f8e5e833-059c-45e0-9a46-81d89d34be0f",
   "metadata": {},
   "outputs": [],
   "source": [
    "import numpy as np\n",
    "#from netCDF4 import Dataset as ncdset\n",
    "import glob\n",
    "import warnings\n",
    "import datetime\n",
    "#import scipy.stats\n",
    "import matplotlib.pyplot as plt\n",
    "from matplotlib.patches import Polygon\n",
    "from mpl_toolkits.basemap import Basemap\n",
    "import os\n",
    "#import cdsapi\n",
    "#from scipy.optimize import curve_fit\n",
    "import xarray as xr\n",
    "import xskillscore as xs\n",
    "import pandas as pd\n",
    "import xesmf as xesmf"
   ]
  },
  {
   "cell_type": "markdown",
   "id": "a000aafb-60a0-4db7-8e76-9d1834ea5fab",
   "metadata": {},
   "source": [
    "#### Puts all observational datasets on common 1deg x 1deg grid\n",
    "#### and standardizes variable names, units, and conventions"
   ]
  },
  {
   "cell_type": "code",
   "execution_count": 4,
   "id": "3370ad7e-dee9-442a-98e4-c2d0ce6af8c1",
   "metadata": {},
   "outputs": [],
   "source": [
    "def regrid_with_nan(data,regridder,C=10.):\n",
    "    data['pr'] = data['pr'] + C\n",
    "    data['tas'] = data['tas'] + C\n",
    "    data_rg = regridder(data)\n",
    "    data_rg['pr'] = xr.where(data_rg['pr']==0.0,np.nan,data_rg['pr'])\n",
    "    data_rg['tas'] = xr.where(data_rg['tas']==0.0,np.nan,data_rg['tas'])\n",
    "    data_rg['pr'] = data_rg['pr'] - C\n",
    "    data_rg['tas'] = data_rg['tas'] - C\n",
    "    data['pr'] = data['pr'] - C\n",
    "    data['tas'] = data['tas'] - C\n",
    "    return data_rg"
   ]
  },
  {
   "cell_type": "code",
   "execution_count": 5,
   "id": "12e63d23-bf17-4c59-a9c7-7b1dd43e8a28",
   "metadata": {},
   "outputs": [],
   "source": [
    "diri = '/glade/work/nlybarger/data/OBS/'"
   ]
  },
  {
   "cell_type": "code",
   "execution_count": 6,
   "id": "921e9e02-9a44-42b5-be58-552493fa8f5f",
   "metadata": {},
   "outputs": [],
   "source": [
    "gmet = xr.open_dataset(diri + 'GMET/gmet.1970-2021.e1-10.monthly.nc',drop_variables=['t_range'])\n",
    "livneh = xr.open_dataset(diri + 'Livneh/livneh_prec.mon.mean.nc')\n",
    "livneh = xr.merge([livneh, xr.open_dataset(diri + 'Livneh/livneh_trad.mon.mean.nc')])\n",
    "cru = xr.open_dataset(diri + 'CRU/cru_ts4.06.1901.2021.pre.dat.nc',drop_variables=['stn'])\n",
    "cru = xr.merge([cru, xr.open_dataset(diri + 'CRU/cru_ts4.06.1901.2021.tmp.dat.nc',drop_variables=['stn'])])\n",
    "era5 = xr.open_dataset(diri + 'ERA-5/era5.mon.T.P.global_fixed.nc')\n",
    "udel = xr.open_dataset(diri + 'UDel/precip.mon.total.v501.nc')\n",
    "udel = xr.merge([udel, xr.open_dataset(diri + 'UDel/air.mon.mean.v501.nc')])\n",
    "prism = xr.open_dataset(diri + 'PRISM/prism.mon_tot_pr.tas.nc')\n"
   ]
  },
  {
   "cell_type": "code",
   "execution_count": 7,
   "id": "4708ab08-71f9-4018-9435-7c502471ecb7",
   "metadata": {},
   "outputs": [],
   "source": [
    "cruout = cru\n",
    "cruout['lon'] = cruout['lon']+360.\n",
    "cruout = cruout.sel(lat=latslic,lon=lonslic,drop=True)\n",
    "cruout = cruout.rename_vars({'pre':'pr','tmp':'tas'})\n",
    "cruout.to_netcdf(diri + 'CRU/fixed.cru.wconus.mon_tot_pr.tas.nc',mode='w')"
   ]
  },
  {
   "cell_type": "code",
   "execution_count": 9,
   "id": "99bbaec1-ee25-456f-b075-9ba7f24aefdf",
   "metadata": {},
   "outputs": [],
   "source": [
    "era5out = era5\n",
    "month_length = era5.time.dt.days_in_month\n",
    "era5out['pr'] = era5['pr']*month_length\n",
    "era5out.to_netcdf(diri + 'ERA-5/fixed.era5.global.mon_tot_pr.tas.nc',mode='w')"
   ]
  },
  {
   "cell_type": "code",
   "execution_count": 10,
   "id": "ab478cc8-c0f5-4f61-b8fa-e518a3a31bb2",
   "metadata": {},
   "outputs": [],
   "source": [
    "udelout = udel.rename_vars({'precip':'pr','air':'tas'})\n",
    "udelout = udelout.reindex(lat=list(reversed(udel.lat)))\n",
    "udelout = udelout.sel(lat=latslic,lon=lonslic,drop=True)\n",
    "udelout['pr'] = udelout['pr']*10\n",
    "udelout['pr'].attrs['units'] = 'mm'\n",
    "udelout.to_netcdf(diri + 'UDel/fixed.udel.global.mon_tot_pr.tas.nc',mode='w')"
   ]
  },
  {
   "cell_type": "code",
   "execution_count": 23,
   "id": "dcb44fae-b2a7-4206-924f-c0436f1d7e66",
   "metadata": {},
   "outputs": [
    {
     "name": "stderr",
     "output_type": "stream",
     "text": [
      "/glade/u/home/nlybarger/miniconda3/envs/mypy/lib/python3.9/site-packages/xesmf/smm.py:130: UserWarning: Input array is not C_CONTIGUOUS. Will affect performance.\n",
      "  warnings.warn('Input array is not C_CONTIGUOUS. ' 'Will affect performance.')\n"
     ]
    }
   ],
   "source": [
    "dummy1deg = xr.Dataset(\n",
    "        data_vars = dict(\n",
    "    ),\n",
    "    coords = dict(\n",
    "        lon = (['lon'], np.arange(1,361)),\n",
    "        lat = (['lat'], np.arange(-90,91)),\n",
    "    ),\n",
    ")\n",
    "\n",
    "\n",
    "\n",
    "reg = xesmf.Regridder(cruout,dummy1deg,method='bilinear')\n",
    "cru_r = regrid_with_nan(cruout,reg)\n",
    "filo = diri + 'CRU/1deg.cru.global.p.t.nc'\n",
    "if os.path.exists(filo):\n",
    "    os.remove(filo)\n",
    "cru_r.to_netcdf(filo,mode='w')\n",
    "\n",
    "reg = xesmf.Regridder(era5out,dummy1deg,method='bilinear')\n",
    "era5_r = regrid_with_nan(era5out,reg)\n",
    "filo = diri + 'ERA-5/1deg.era5.global.p.t.nc'\n",
    "if os.path.exists(filo):\n",
    "    os.remove(filo)\n",
    "for it in range(len(era5_r['time'])):\n",
    "    era5_r['tas'][it,:,:] = xr.where(~np.isnan(cru_r['tas'][0,:,:]),era5_r['tas'][it,:,:],np.nan)\n",
    "    era5_r['pr'][it,:,:] = xr.where(~np.isnan(cru_r['pr'][0,:,:]),era5_r['pr'][it,:,:],np.nan)\n",
    "era5_r.to_netcdf(filo,mode='w')\n",
    "\n",
    "reg = xesmf.Regridder(udelout,dummy1deg,method='bilinear')\n",
    "udel_r = regrid_with_nan(udelout,reg)\n",
    "filo = diri + 'UDel/1deg.udel.global.p.t.nc'\n",
    "if os.path.exists(filo):\n",
    "    os.remove(filo)\n",
    "for it in range(len(udel_r['time'])):\n",
    "    udel_r['tas'][it,:,:] = xr.where(~np.isnan(cru_r['tas'][0,:,:]),udel_r['tas'][it,:,:],np.nan)\n",
    "    udel_r['pr'][it,:,:] = xr.where(~np.isnan(cru_r['pr'][0,:,:]),udel_r['pr'][it,:,:],np.nan)\n",
    "udel_r.to_netcdf(filo,mode='w')\n"
   ]
  }
 ],
 "metadata": {
  "kernelspec": {
   "display_name": "mypy",
   "language": "python",
   "name": "mypy"
  },
  "language_info": {
   "codemirror_mode": {
    "name": "ipython",
    "version": 3
   },
   "file_extension": ".py",
   "mimetype": "text/x-python",
   "name": "python",
   "nbconvert_exporter": "python",
   "pygments_lexer": "ipython3",
   "version": "3.9.5"
  }
 },
 "nbformat": 4,
 "nbformat_minor": 5
}
