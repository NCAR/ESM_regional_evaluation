{
 "cells": [
  {
   "cell_type": "code",
   "execution_count": null,
   "id": "f8e5e833-059c-45e0-9a46-81d89d34be0f",
   "metadata": {},
   "outputs": [],
   "source": [
    "import numpy as np\n",
    "import glob\n",
    "import warnings\n",
    "import datetime\n",
    "import matplotlib.pyplot as plt\n",
    "from matplotlib.patches import Polygon\n",
    "from mpl_toolkits.basemap import Basemap\n",
    "import os\n",
    "import xarray as xr\n",
    "import xskillscore as xs\n",
    "import pandas as pd\n",
    "import xesmf as xesmf"
   ]
  },
  {
   "cell_type": "markdown",
   "id": "be1d8374-e5c7-4378-a762-0ff20b0e081c",
   "metadata": {},
   "source": [
    "#### Puts all observational datasets on common 1deg x 1deg grid\n",
    "#### and standardizes variable names, units, and conventions"
   ]
  },
  {
   "cell_type": "code",
   "execution_count": null,
   "id": "3370ad7e-dee9-442a-98e4-c2d0ce6af8c1",
   "metadata": {},
   "outputs": [],
   "source": [
    "def regrid_with_nan(data,regridder,C=10.):\n",
    "    data['pr'] = data['pr'] + C\n",
    "    data['tas'] = data['tas'] + C\n",
    "    data_rg = regridder(data)\n",
    "    data_rg['pr'] = xr.where(data_rg['pr']==0.0,np.nan,data_rg['pr'])\n",
    "    data_rg['tas'] = xr.where(data_rg['tas']==0.0,np.nan,data_rg['tas'])\n",
    "    data_rg['pr'] = data_rg['pr'] - C\n",
    "    data_rg['tas'] = data_rg['tas'] - C\n",
    "    data['pr'] = data['pr'] - C\n",
    "    data['tas'] = data['tas'] - C\n",
    "    return data_rg"
   ]
  },
  {
   "cell_type": "code",
   "execution_count": null,
   "id": "12e63d23-bf17-4c59-a9c7-7b1dd43e8a28",
   "metadata": {},
   "outputs": [],
   "source": [
    "diri = '/glade/work/nlybarger/data/OBS/'\n",
    "latslic = slice(30,55)\n",
    "lonslic = slice(225,265)"
   ]
  },
  {
   "cell_type": "code",
   "execution_count": null,
   "id": "921e9e02-9a44-42b5-be58-552493fa8f5f",
   "metadata": {},
   "outputs": [],
   "source": [
    "gmet = xr.open_dataset(diri + 'GMET/gmet.1970-2021.e1-10.monthly.nc',drop_variables=['t_range'])\n",
    "livneh = xr.open_dataset(diri + 'Livneh/livneh_prec.mon.mean.nc')\n",
    "livneh = xr.merge([livneh, xr.open_dataset(diri + 'Livneh/livneh_trad.mon.mean.nc')])\n",
    "cru = xr.open_dataset(diri + 'CRU/cru_ts4.06.1901.2021.pre.dat.nc',drop_variables=['stn'])\n",
    "cru = xr.merge([cru, xr.open_dataset(diri + 'CRU/cru_ts4.06.1901.2021.tmp.dat.nc',drop_variables=['stn'])])\n",
    "era5 = xr.open_dataset(diri + 'ERA-5/era5.mon.T.P.global_fixed.nc')\n",
    "udel = xr.open_dataset(diri + 'UDel/precip.mon.total.v501.nc')\n",
    "udel = xr.merge([udel, xr.open_dataset(diri + 'UDel/air.mon.mean.v501.nc')])\n",
    "prism = xr.open_dataset(diri + 'PRISM/prism.mon_tot_pr.tas.nc')\n"
   ]
  },
  {
   "cell_type": "code",
   "execution_count": null,
   "id": "873bbb12-43db-4bd4-bd7a-f3a8efccd71f",
   "metadata": {},
   "outputs": [],
   "source": [
    "gmetout = xr.Dataset(\n",
    "    data_vars = dict(\n",
    "        pr=(['ens','time','lat','lon'], gmet['pcp'].data),\n",
    "        tas=(['ens','time','lat','lon'], gmet['t_mean'].data),\n",
    "        elevation=(['lat','lon'], gmet['elevation'][0,0,:,:].data),\n",
    "    ),\n",
    "    coords = dict(\n",
    "        lon = (['lon'], gmet['longitude'][0,0,0,:].data),\n",
    "        lat = (['lat'], gmet['latitude'][0,0,:,0].data),\n",
    "        ens = (['ens'], gmet['ens'].data),\n",
    "        time = (['time'], pd.date_range('1970-01-01','2021-12-01',freq='MS')),\n",
    "    ),\n",
    ")\n",
    "\n",
    "month_length = gmetout.time.dt.days_in_month\n",
    "gmetout['pr'] = gmetout['pr']*month_length\n",
    "gmetout['pr'].attrs['units'] = 'mm'\n",
    "gmetout['tas'].attrs['units'] = '°C'\n",
    "gmetout['lon'] = gmetout['lon']+360.\n",
    "gmetout = gmetout.sel(lat=latslic,lon=lonslic,drop=True)"
   ]
  },
  {
   "cell_type": "code",
   "execution_count": null,
   "id": "66c0606b-56a7-43a6-8e9b-97c61bb88329",
   "metadata": {},
   "outputs": [],
   "source": [
    "livnehout = livneh.sel(lat=latslic,lon=lonslic,drop=True)\n",
    "livnehout = livnehout.rename_vars({'prec':'pr','trad':'tas'})\n",
    "livnehout['tas'] = livnehout['tas'] - 273.15"
   ]
  },
  {
   "cell_type": "code",
   "execution_count": null,
   "id": "4708ab08-71f9-4018-9435-7c502471ecb7",
   "metadata": {},
   "outputs": [],
   "source": [
    "cruout = cru\n",
    "cruout['lon'] = cruout['lon']+360.\n",
    "cruout = cruout.sel(lat=latslic,lon=lonslic,drop=True)\n",
    "cruout = cruout.rename_vars({'pre':'pr','tmp':'tas'})"
   ]
  },
  {
   "cell_type": "code",
   "execution_count": null,
   "id": "99bbaec1-ee25-456f-b075-9ba7f24aefdf",
   "metadata": {},
   "outputs": [],
   "source": [
    "era5out = era5.sel(lat=latslic,lon=lonslic,drop=True)\n",
    "month_length = era5out.time.dt.days_in_month\n",
    "era5out['pr'] = era5out['pr']*month_length"
   ]
  },
  {
   "cell_type": "code",
   "execution_count": null,
   "id": "ab478cc8-c0f5-4f61-b8fa-e518a3a31bb2",
   "metadata": {},
   "outputs": [],
   "source": [
    "udelout = udel.rename_vars({'precip':'pr','air':'tas'})\n",
    "udelout = udelout.reindex(lat=list(reversed(udel.lat)))\n",
    "udelout = udelout.sel(lat=latslic,lon=lonslic,drop=True)\n",
    "udelout['pr'] = udelout['pr']*10\n",
    "udelout['pr'].attrs['units'] = 'mm'"
   ]
  },
  {
   "cell_type": "code",
   "execution_count": null,
   "id": "bf175b5c-fd8d-4468-9268-a737a95eddb8",
   "metadata": {},
   "outputs": [],
   "source": [
    "prismout = prism.sel(lat=latslic,lon=lonslic,drop=True)"
   ]
  },
  {
   "cell_type": "code",
   "execution_count": null,
   "id": "dcb44fae-b2a7-4206-924f-c0436f1d7e66",
   "metadata": {},
   "outputs": [],
   "source": [
    "dummy1deg = xr.Dataset(\n",
    "        data_vars = dict(\n",
    "    ),\n",
    "    coords = dict(\n",
    "        lon = (['lon'], np.arange(236,253)),\n",
    "        lat = (['lat'], np.arange(41,50)),\n",
    "    ),\n",
    ")\n",
    "\n",
    "\n",
    "reg = xesmf.Regridder(prismout,dummy1deg,method='bilinear')\n",
    "prism_r = regrid_with_nan(prismout,reg)\n",
    "filo = diri + 'PRISM/1deg.prism.wconus.p.t.nc'\n",
    "if os.path.exists(filo):\n",
    "    os.remove(filo)\n",
    "prism_r.to_netcdf(filo,mode='w')\n",
    "\n",
    "reg = xesmf.Regridder(era5out,dummy1deg,method='bilinear')\n",
    "era5_r = regrid_with_nan(era5out,reg)\n",
    "filo = diri + 'ERA-5/1deg.era5.wconus.p.t.nc'\n",
    "if os.path.exists(filo):\n",
    "    os.remove(filo)\n",
    "for it in range(len(era5_r['time'])):\n",
    "    era5_r['tas'][it,:,:] = xr.where(~np.isnan(prism_r['tas'][0,:,:]),era5_r['tas'][it,:,:],np.nan)\n",
    "era5_r.to_netcdf(filo,mode='w')\n",
    "\n",
    "reg = xesmf.Regridder(gmetout,dummy1deg,method='bilinear')\n",
    "gmet_r = regrid_with_nan(gmetout,reg)\n",
    "gmet_r = gmet_r.mean(dim='ens')\n",
    "filo = diri + 'GMET/1deg.gmetensm.wconus.p.t.nc'\n",
    "if os.path.exists(filo):\n",
    "    os.remove(filo)\n",
    "gmet_r.to_netcdf(filo,mode='w')\n",
    "\n",
    "reg = xesmf.Regridder(livnehout,dummy1deg,method='bilinear')\n",
    "livneh_r = regrid_with_nan(livnehout,reg)\n",
    "filo = diri + 'Livneh/1deg.livneh.wconus.p.t.nc'\n",
    "if os.path.exists(filo):\n",
    "    os.remove(filo)\n",
    "livneh_r.to_netcdf(filo,mode='w')\n",
    "\n",
    "reg = xesmf.Regridder(cruout,dummy1deg,method='bilinear')\n",
    "cru_r = regrid_with_nan(cruout,reg)\n",
    "filo = diri + 'CRU/1deg.cru.wconus.p.t.nc'\n",
    "if os.path.exists(filo):\n",
    "    os.remove(filo)\n",
    "cru_r.to_netcdf(filo,mode='w')\n",
    "\n",
    "reg = xesmf.Regridder(udelout,dummy1deg,method='bilinear')\n",
    "udel_r = regrid_with_nan(udelout,reg)\n",
    "filo = diri + 'UDel/1deg.udel.wconus.p.t.nc'\n",
    "if os.path.exists(filo):\n",
    "    os.remove(filo)\n",
    "udel_r.to_netcdf(filo,mode='w')\n"
   ]
  }
 ],
 "metadata": {
  "kernelspec": {
   "display_name": "mypy",
   "language": "python",
   "name": "mypy"
  },
  "language_info": {
   "codemirror_mode": {
    "name": "ipython",
    "version": 3
   },
   "file_extension": ".py",
   "mimetype": "text/x-python",
   "name": "python",
   "nbconvert_exporter": "python",
   "pygments_lexer": "ipython3",
   "version": "3.9.5"
  }
 },
 "nbformat": 4,
 "nbformat_minor": 5
}
